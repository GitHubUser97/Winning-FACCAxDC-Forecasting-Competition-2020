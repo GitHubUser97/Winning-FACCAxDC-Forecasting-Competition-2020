{
 "cells": [
  {
   "cell_type": "code",
   "execution_count": null,
   "metadata": {},
   "outputs": [],
   "source": [
    "import numpy as np\n",
    "import matplotlib.pyplot as plt\n",
    "import seaborn as sns; sns.set()\n",
    "import pandas as pd\n",
    "from xgboost import XGBRegressor, XGBRFRegressor \n",
    "from sklearn.model_selection import train_test_split\n",
    "\n",
    "from sklearn.decomposition import PCA\n",
    "\n",
    "%matplotlib notebook"
   ]
  },
  {
   "cell_type": "code",
   "execution_count": null,
   "metadata": {},
   "outputs": [],
   "source": [
    "X_TRAIN_PATH = './Case_material/train/X_final.csv'\n",
    "Y_TRAIN_PATH = './Case_material/train/y_train.csv'\n",
    "\n",
    "X = pd.read_csv(X_TRAIN_PATH)\n",
    "y = pd.read_csv(Y_TRAIN_PATH)\n",
    "\n",
    "X.drop(columns=['ValueDateTimeUTC', 'time'], inplace=True)\n",
    "y.drop(columns=['ValueDateTimeUTC'], inplace=True)\n",
    "\n",
    "# Uncomment for PCA\n",
    "# pca = PCA(n_components=25)\n",
    "# pca.fit(X)\n",
    "# X = pca.transform(X)\n",
    "\n",
    "X_train, X_test, y_train, y_test = train_test_split(\n",
    "    X, y, test_size=0.33, random_state=42)"
   ]
  },
  {
   "cell_type": "code",
   "execution_count": null,
   "metadata": {},
   "outputs": [],
   "source": [
    "xgb_model = XGBRegressor()\n",
    "fit = xgb_model.fit(X_train, y_train)"
   ]
  },
  {
   "cell_type": "code",
   "execution_count": null,
   "metadata": {},
   "outputs": [],
   "source": [
    "from sklearn.metrics import mean_squared_error, r2_score\n",
    "\n",
    "test_preds = xgb_model.predict(X_test)\n",
    "\n",
    "print('MSE:', round(mean_squared_error(y_test.to_numpy(), \n",
    "                                       test_preds.reshape((-1, 1))),2))\n",
    "print('R^2:', round(r2_score(y_test.to_numpy(), test_preds.reshape((-1, 1))), 2))\n",
    "\n",
    "mape = np.mean(np.abs((y_test.to_numpy() - test_preds.reshape((-1,1))) / \n",
    "                      np.abs(y_test.to_numpy())))\n",
    "print('Mean Absolute Percentage Error (MAPE):', round(mape * 100, 2))\n",
    "print('Accuracy:', round(100*(1 - mape), 2))"
   ]
  },
  {
   "cell_type": "code",
   "execution_count": null,
   "metadata": {},
   "outputs": [],
   "source": [
    "# CROSSVAL\n",
    "\n",
    "from sklearn.model_selection import cross_val_score, KFold\n",
    "\n",
    "kfold = KFold(n_splits=10, random_state=42, shuffle=True)\n",
    "xgb = XGBRegressor()\n",
    "\n",
    "score = -1 * cross_val_score(xgb, X, y, cv=kfold, scoring='neg_mean_squared_error').mean()\n",
    "\n",
    "score"
   ]
  },
  {
   "cell_type": "code",
   "execution_count": null,
   "metadata": {},
   "outputs": [],
   "source": [
    "xgb_model.feature_importances_"
   ]
  },
  {
   "cell_type": "code",
   "execution_count": null,
   "metadata": {
    "scrolled": false
   },
   "outputs": [],
   "source": [
    "%matplotlib notebook\n",
    "\n",
    "plt.bar(X_train.columns, xgb_model.feature_importances_)\n",
    "plt.xticks(rotation=90)"
   ]
  },
  {
   "cell_type": "code",
   "execution_count": null,
   "metadata": {},
   "outputs": [],
   "source": []
  }
 ],
 "metadata": {
  "kernelspec": {
   "display_name": "Python 3",
   "language": "python",
   "name": "python3"
  },
  "language_info": {
   "codemirror_mode": {
    "name": "ipython",
    "version": 3
   },
   "file_extension": ".py",
   "mimetype": "text/x-python",
   "name": "python",
   "nbconvert_exporter": "python",
   "pygments_lexer": "ipython3",
   "version": "3.7.9"
  }
 },
 "nbformat": 4,
 "nbformat_minor": 4
}
