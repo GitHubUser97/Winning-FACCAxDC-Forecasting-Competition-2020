{
 "cells": [
  {
   "cell_type": "code",
   "execution_count": 51,
   "metadata": {},
   "outputs": [],
   "source": [
    "import numpy as np\n",
    "import matplotlib.pyplot as plt\n",
    "import seaborn as sns; sns.set()\n",
    "import pandas as pd\n",
    "from sklearn.ensemble import RandomForestRegressor\n",
    "from sklearn.model_selection import train_test_split\n",
    "\n",
    "%matplotlib notebook"
   ]
  },
  {
   "cell_type": "code",
   "execution_count": 77,
   "metadata": {},
   "outputs": [],
   "source": [
    "X_TRAIN_PATH = './Case_material/train/X_train.csv'\n",
    "Y_TRAIN_PATH = './Case_material/train/y_train.csv'\n",
    "\n",
    "X = pd.read_csv(X_TRAIN_PATH)\n",
    "y = pd.read_csv(Y_TRAIN_PATH)\n",
    "\n",
    "X.drop(columns=['ValueDateTimeUTC'], inplace=True)\n",
    "y.drop(columns=['ValueDateTimeUTC'], inplace=True)\n",
    "\n",
    "X_train, X_test, y_train, y_test = train_test_split(\n",
    "    X, y, test_size=0.33, random_state=42)"
   ]
  },
  {
   "cell_type": "code",
   "execution_count": 78,
   "metadata": {
    "scrolled": true
   },
   "outputs": [
    {
     "name": "stderr",
     "output_type": "stream",
     "text": [
      "/home/fritz/anaconda3/lib/python3.7/site-packages/ipykernel_launcher.py:4: DataConversionWarning: A column-vector y was passed when a 1d array was expected. Please change the shape of y to (n_samples,), for example using ravel().\n",
      "  after removing the cwd from sys.path.\n"
     ]
    },
    {
     "data": {
      "text/plain": [
       "RandomForestRegressor(random_state=7)"
      ]
     },
     "execution_count": 78,
     "metadata": {},
     "output_type": "execute_result"
    }
   ],
   "source": [
    "reg = RandomForestRegressor(n_estimators=100, \n",
    "                            random_state=7)\n",
    "\n",
    "reg.fit(X_train, y_train)"
   ]
  },
  {
   "cell_type": "code",
   "execution_count": 79,
   "metadata": {
    "scrolled": true
   },
   "outputs": [
    {
     "name": "stdout",
     "output_type": "stream",
     "text": [
      "MSE: 7832727.05\n",
      "R^2: 0.64\n",
      "Mean Absolute Percentage Error (MAPE): 8.12\n",
      "Accuracy: 91.88\n"
     ]
    }
   ],
   "source": [
    "from sklearn.metrics import mean_squared_error, r2_score\n",
    "\n",
    "test_preds = reg.predict(X_test)\n",
    "\n",
    "print('MSE:', round(mean_squared_error(y_test.to_numpy(), \n",
    "                                       test_preds.reshape((-1, 1))),2))\n",
    "print('R^2:', round(r2_score(y_test.to_numpy(), test_preds.reshape((-1, 1))), 2))\n",
    "\n",
    "mape = np.mean(np.abs((y_test.to_numpy() - test_preds.reshape((-1,1))) / \n",
    "                      np.abs(y_test.to_numpy())))\n",
    "print('Mean Absolute Percentage Error (MAPE):', round(mape * 100, 2))\n",
    "print('Accuracy:', round(100*(1 - mape), 2))"
   ]
  },
  {
   "cell_type": "code",
   "execution_count": null,
   "metadata": {},
   "outputs": [],
   "source": [
    "# normalize, unenhanced dataset\n",
    "\n",
    "# MSE: 7816322.364925587\n",
    "# R^2: 0.6381161457727074\n",
    "# Mean Absolute Percentage Error (MAPE): 8.13\n",
    "# Accuracy: 91.87\n",
    "\n",
    "# enhanced dataset\n",
    "\n",
    "# MSE: 1599344.38897705\n",
    "# R^2: 0.9259527838415452\n",
    "# Mean Absolute Percentage Error (MAPE): 2.95\n",
    "# Accuracy: 97.05"
   ]
  },
  {
   "cell_type": "code",
   "execution_count": null,
   "metadata": {},
   "outputs": [],
   "source": []
  }
 ],
 "metadata": {
  "kernelspec": {
   "display_name": "Python 3",
   "language": "python",
   "name": "python3"
  },
  "language_info": {
   "codemirror_mode": {
    "name": "ipython",
    "version": 3
   },
   "file_extension": ".py",
   "mimetype": "text/x-python",
   "name": "python",
   "nbconvert_exporter": "python",
   "pygments_lexer": "ipython3",
   "version": "3.7.9"
  }
 },
 "nbformat": 4,
 "nbformat_minor": 4
}
